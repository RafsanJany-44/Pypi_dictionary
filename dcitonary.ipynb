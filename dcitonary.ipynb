{
  "nbformat": 4,
  "nbformat_minor": 0,
  "metadata": {
    "colab": {
      "name": "dcitonary",
      "provenance": [],
      "collapsed_sections": [],
      "include_colab_link": true
    },
    "kernelspec": {
      "display_name": "Python 3",
      "name": "python3"
    }
  },
  "cells": [
    {
      "cell_type": "markdown",
      "metadata": {
        "id": "view-in-github",
        "colab_type": "text"
      },
      "source": [
        "<a href=\"https://colab.research.google.com/github/RafsanJany-44/Pypi_dictionary/blob/master/dcitonary.ipynb\" target=\"_parent\"><img src=\"https://colab.research.google.com/assets/colab-badge.svg\" alt=\"Open In Colab\"/></a>"
      ]
    },
    {
      "cell_type": "markdown",
      "metadata": {
        "id": "3TF28_Uc9oB-"
      },
      "source": [
        "<font color= \"red\" size=\"36\"><b>DONE</font>"
      ]
    },
    {
      "cell_type": "code",
      "metadata": {
        "id": "KFn0eqaVyFKU"
      },
      "source": [
        "\n",
        "def key_search(dict,value):\n",
        "  list_of_keys = list(dict.keys())\n",
        "  list_of_value = list(dict.values())\n",
        "  position = list_of_value.index(value)\n",
        "  return list_of_keys[position]\n",
        "\n",
        "\n",
        "\n",
        "def value_sort(dict,type=False):\n",
        "  d={}\n",
        "  values=sorted(dict.values(),reverse=type)\n",
        "  for i in values:\n",
        "    d[key_search(dict,i)]=i\n",
        "  return d\n",
        "\n",
        "\n",
        "def key_sort(dict,type=False):\n",
        "  d={}\n",
        "  keys=sorted(dict.keys(),reverse=type)\n",
        "  for i in keys:\n",
        "    d[i]=dict[i]\n",
        "  return d\n",
        "\n",
        "\n",
        "\n",
        "def to_json(dict,file_name_or_path):\n",
        "  import json\n",
        "  with open(file_name_or_path, 'w') as outfile:\n",
        "    json.dump(dict, outfile)\n",
        "\n",
        "\n",
        "def from_json(file_name_or_path):\n",
        "  import json\n",
        "  with open(file_name_or_path) as infile:\n",
        "    return json.load(infile)\n",
        "\n",
        "\n",
        "\n",
        "\n",
        "\n",
        "\n",
        "def show_def():\n",
        "\n",
        "  d={\n",
        "      1:{\"FUNCTIONS\":\"key_search(dict,value)\",\"RETURN\":\"Key\"},\n",
        "      2:{\"FUNCTIONS\":\"value_sort(dict,type=False)\",\"RETURN\":\"Dictionary\"},\n",
        "      3:{\"FUNCTIONS\":\"key_sort(dict,type=False)\",\"RETURN\":\"Dictionary\"},\n",
        "      4:{\"FUNCTIONS\":\"to_json(dict,file_name_or_path)\",\"RETURN\":\"Null\"},\n",
        "      5:{\"FUNCTIONS\":\"from_json(file_name_or_path)\",\"RETURN\":None},\n",
        "      6:{\"FUNCTIONS\":\"show_def(None)\",\"RETURN\":None},\n",
        "      7:{\"FUNCTIONS\":\"show_type(any_data)\",\"RETURN\":\"String\"},\n",
        "     8:{\"FUNCTIONS\":\"values_type_count(dictionary))\",\"RETURN\":\"Dictionary\"},\n",
        "     9:{\"FUNCTIONS\":\"get_component(dict,index)\",\"RETURN\":\"Dictionary\"},\n",
        "     10:{\"FUNCTIONS\":\"get_index(dict,key))\",\"RETURN\":\"Anything\"}\n",
        "  }\n",
        "  for i in d:\n",
        "    print(i,\": \",d[i],end=\"\\n\")\n",
        "    print()\n",
        "\n",
        "\n",
        "def show_type(s):\n",
        "  return str(type(s))[8:-2]\n",
        "\n",
        "\n",
        "\n",
        "\n",
        "\n",
        "def values_type_count(d):\n",
        "  dict={\n",
        "      'str':0,\n",
        "      'int':0,\n",
        "      'float':0,\n",
        "      'complex':0,\n",
        "      'list':0,\n",
        "      'tuple':0,\n",
        "      'range':0,\n",
        "      'range':0,\n",
        "      'dict':0,\n",
        "      'set':0,\n",
        "      'frozenset':0,\n",
        "      'bool':0,\n",
        "      'bytes':0,\n",
        "      'bytearray':0,\n",
        "      'memoryview':0\n",
        "  }\n",
        "  for i in d:\n",
        "     dict[show_type(d[i])]=dict[show_type(d[i])]+1\n",
        "  return dict\n",
        "\n",
        "def get_component(dict,index):\n",
        "  return {list(dict.keys())[index]:dict[list(d.keys())[index]]}\n",
        "\n",
        "def get_index(dict,key):\n",
        "  return list(dict.keys()).index(key)\n"
      ],
      "execution_count": 5,
      "outputs": []
    },
    {
      "cell_type": "markdown",
      "metadata": {
        "id": "MQUiuW0sK2oW"
      },
      "source": [
        "<font color=\"blue\">Sample Dictionary</font>"
      ]
    },
    {
      "cell_type": "code",
      "metadata": {
        "id": "a4IjPr6TM6oI"
      },
      "source": [
        "d={0: \"Hello World\", \n",
        "   1: 20,\n",
        "   2: 20.5, \n",
        "   3: 1j, \n",
        "   4: [\"rafsan\", \"tainaki\", \"achha thik achhe\"], \n",
        "   5: (\"thik nai\", \"kemne ki\", \"koi ki\"), \n",
        "   6: range(6), \n",
        "   7:  {\"name\" : \"John\", \"age\" : 36}, \n",
        "   8: {\"apple\", \"banana\", \"cherry\"}, \n",
        "   9: frozenset({\"apple\", \"banana\", \"cherry\"}), \n",
        "   10: True, \n",
        "   11: b\"Hello\", \n",
        "   12: bytearray(5), \n",
        "   13: memoryview(bytes(3)),\n",
        "   81: \"Hello World\", \n",
        "   11: 20,\n",
        "   21: 20.5, \n",
        "   31: 1j, \n",
        "   41: [\"apple\", \"banana\", \"cherry\"], \n",
        "   51: (\"apple\", \"banana\", \"cherry\"), \n",
        "   61: range(6), \n",
        "   71:  {\"name\" : \"John\", \"age\" : 36}, \n",
        "   81: {\"apple\", \"banana\", \"cherry\"}, \n",
        "   91: frozenset({\"apple\", \"banana\", \"cherry\"}), \n",
        "   101: True, \n",
        "   111: b\"Hello\", \n",
        "   121: bytearray(5), \n",
        "   131: memoryview(bytes(5)),\n",
        "   82: \"Hello World\", \n",
        "   12: 13,\n",
        "   22: 21.5, \n",
        "   32: 1j, \n",
        "   42: [\"apple\", \"banana\", \"cherry\"], \n",
        "   52: (\"apple\", \"banana\", \"cherry\"), \n",
        "   62: range(6), \n",
        "   72:  {\"name\" : \"John\", \"age\" : 36}, \n",
        "   82: {\"apple\", \"banana\", \"cherry\"}, \n",
        "   92: frozenset({\"apple\", \"banana\", \"cherry\"}), \n",
        "   102: True, \n",
        "   112: b\"Hello\", \n",
        "   122: bytearray(5), \n",
        "   132: memoryview(bytes(6)),\n",
        "   83: \"Hello World\", \n",
        "   13: 20,\n",
        "   23: 20.5, \n",
        "   33: 2j, \n",
        "   43: [\"apple\", \"banana\", \"cherry\"], \n",
        "   53: (\"apple\", \"banana\", \"cherry\"), \n",
        "   63: range(10), \n",
        "   73:  {\"name\" : \"John\", \"age\" : 36}, \n",
        "   83: {\"apple\", \"banana\", \"cherry\"}, \n",
        "   93: frozenset({\"apple\", \"banana\", \"cherry\"}), \n",
        "   103: True, \n",
        "   113: b\"Hello\", \n",
        "   123: bytearray(5), \n",
        "   133: memoryview(bytes(5))\n",
        "   }"
      ],
      "execution_count": 6,
      "outputs": []
    },
    {
      "cell_type": "markdown",
      "metadata": {
        "id": "CNyzyB83PNpU"
      },
      "source": [
        "<font color= \"red\" size=\"36\"><b>New code to Add</font>"
      ]
    },
    {
      "cell_type": "code",
      "metadata": {
        "id": "_T12kDjPNiZp"
      },
      "source": [
        ""
      ],
      "execution_count": null,
      "outputs": []
    },
    {
      "cell_type": "markdown",
      "metadata": {
        "id": "Ud9G_NnCxLyO"
      },
      "source": [
        "<font color= \"red\" size=\"36\"><b>--------------------------------------------------------------------------------</font>"
      ]
    },
    {
      "cell_type": "code",
      "metadata": {
        "id": "A6B2P6Ge1ou1"
      },
      "source": [
        "def "
      ],
      "execution_count": 50,
      "outputs": []
    }
  ]
}
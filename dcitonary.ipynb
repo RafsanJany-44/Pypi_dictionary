{
  "nbformat": 4,
  "nbformat_minor": 0,
  "metadata": {
    "colab": {
      "name": "dcitonary",
      "provenance": [],
      "collapsed_sections": [],
      "include_colab_link": true
    },
    "kernelspec": {
      "display_name": "Python 3",
      "name": "python3"
    }
  },
  "cells": [
    {
      "cell_type": "markdown",
      "metadata": {
        "id": "view-in-github",
        "colab_type": "text"
      },
      "source": [
        "<a href=\"https://colab.research.google.com/github/RafsanJany-44/Pypi_dictionary/blob/master/dcitonary.ipynb\" target=\"_parent\"><img src=\"https://colab.research.google.com/assets/colab-badge.svg\" alt=\"Open In Colab\"/></a>"
      ]
    },
    {
      "cell_type": "markdown",
      "metadata": {
        "id": "3TF28_Uc9oB-"
      },
      "source": [
        "<font color= \"red\" size=\"36\"><b>DONE</font>"
      ]
    },
    {
      "cell_type": "code",
      "metadata": {
        "colab": {
          "base_uri": "https://localhost:8080/"
        },
        "id": "KFn0eqaVyFKU",
        "outputId": "e6d22d19-e9b5-44b6-a34e-cfbc9d8c738c"
      },
      "source": [
        "\n",
        "def key_search(dict,value):\n",
        "  list_of_keys = list(dict.keys())\n",
        "  list_of_value = list(dict.values())\n",
        "  position = list_of_value.index(value)\n",
        "  return list_of_keys[position]\n",
        "\n",
        "\n",
        "\n",
        "def value_sort(dict,type=False):\n",
        "  d={}\n",
        "  values=sorted(dict.values(),reverse=type)\n",
        "  for i in values:\n",
        "    d[key_search(dict,i)]=i\n",
        "  return d\n",
        "\n",
        "\n",
        "def key_sort(dict,type=False):\n",
        "  d={}\n",
        "  keys=sorted(dict.keys(),reverse=type)\n",
        "  for i in keys:\n",
        "    d[i]=dict[i]\n",
        "  return d\n",
        "\n",
        "\n",
        "\n",
        "def to_json(dict,file_name_or_path):\n",
        "  import json\n",
        "  with open(file_name_or_path, 'w') as outfile:\n",
        "    json.dump(dict, outfile)\n",
        "\n",
        "\n",
        "def from_json(file_name_or_path):\n",
        "  import json\n",
        "  with open(file_name_or_path) as infile:\n",
        "    return json.load(infile)\n",
        "\n",
        "\n",
        "\n",
        "\n",
        "\n",
        "\n",
        "def show_def():\n",
        "\n",
        "  d={\n",
        "      1:{\"FUNCTIONS\":\"key_search(dict,value)\",\"RETURN\":\"Key\"},\n",
        "      2:{\"FUNCTIONS\":\"value_sort(dict,type=False)\",\"RETURN\":\"Dictionary\"},\n",
        "      3:{\"FUNCTIONS\":\"key_sort(dict,type=False)\",\"RETURN\":\"Dictionary\"},\n",
        "      4:{\"FUNCTIONS\":\"to_json(dict,file_name_or_path)\",\"RETURN\":\"Null\"},\n",
        "      5:{\"FUNCTIONS\":\"from_json(file_name_or_path)\",\"RETURN\":None},\n",
        "      6:{\"FUNCTIONS\":\"show_def(None)\",\"RETURN\":None},\n",
        "      7:{\"FUNCTIONS\":\"show_type(any_data)\",\"RETURN\":\"String\"},\n",
        "     8:{\"FUNCTIONS\":\"values_type_count(dictionary))\",\"RETURN\":\"Dictionary\"}\n",
        "  }\n",
        "  for i in d:\n",
        "    print(i,\": \",d[i],end=\"\\n\")\n",
        "    print()\n",
        "show_def()\n",
        "\n",
        "\n",
        "\n",
        "\n",
        "def show_type(s):\n",
        "  return str(type(s))[8:-2]\n",
        "\n",
        "\n",
        "\n",
        "\n",
        "\n",
        "def values_type_count(d):\n",
        "  dict={\n",
        "      'str':0,\n",
        "      'int':0,\n",
        "      'float':0,\n",
        "      'complex':0,\n",
        "      'list':0,\n",
        "      'tuple':0,\n",
        "      'range':0,\n",
        "      'range':0,\n",
        "      'dict':0,\n",
        "      'set':0,\n",
        "      'frozenset':0,\n",
        "      'bool':0,\n",
        "      'bytes':0,\n",
        "      'bytearray':0,\n",
        "      'memoryview':0\n",
        "  }\n",
        "  for i in d:\n",
        "     dict[show_type(d[i])]=dict[show_type(d[i])]+1\n",
        "  return dict\n",
        "\n",
        "\n"
      ],
      "execution_count": null,
      "outputs": [
        {
          "output_type": "stream",
          "text": [
            "______________________________time:  0.00022077560424804688\n"
          ],
          "name": "stdout"
        }
      ]
    },
    {
      "cell_type": "markdown",
      "metadata": {
        "id": "CNyzyB83PNpU"
      },
      "source": [
        "<font color= \"red\" size=\"36\"><b>New code to Add</font>"
      ]
    },
    {
      "cell_type": "code",
      "metadata": {
        "id": "2juIWm65i8fC"
      },
      "source": [
        ""
      ],
      "execution_count": null,
      "outputs": []
    },
    {
      "cell_type": "markdown",
      "metadata": {
        "id": "Ud9G_NnCxLyO"
      },
      "source": [
        "<font color= \"red\" size=\"36\"><b>--------------------------------------------------------------------------------</font>"
      ]
    },
    {
      "cell_type": "code",
      "metadata": {
        "colab": {
          "base_uri": "https://localhost:8080/"
        },
        "id": "u0npGThVINtK",
        "outputId": "00150bf1-8ce8-4e6c-c5cb-eb957ba2fc99"
      },
      "source": [
        "d={\n",
        "    \"name\":\"Rafsan jany\",\n",
        "    \"Occupation\":\"Student\",\n",
        "    \"age\":17,\n",
        "    \"weight (kg)\": 100,\n",
        "      \"Education\":{\"school\":\"BDSDF\",\"asdf\":\"asdf\"},\n",
        "   \"something\":[\"weel\",\"i dont know\"],\n",
        "   3456:\"byby\",\n",
        "   23:35.345,\n",
        "   }\n",
        "\n",
        "print(d)\n"
      ],
      "execution_count": null,
      "outputs": [
        {
          "output_type": "stream",
          "text": [
            "{'name': 'Rafsan jany', 'Occupation': 'Student', 'age': 17, 'weight (kg)': 100, 'Education': {'school': 'BDSDF', 'asdf': 'asdf'}, 'something': ['weel', 'i dont know'], 3456: 'byby', 23: 35.345}\n"
          ],
          "name": "stdout"
        }
      ]
    },
    {
      "cell_type": "code",
      "metadata": {
        "colab": {
          "base_uri": "https://localhost:8080/"
        },
        "id": "A6B2P6Ge1ou1",
        "outputId": "7d9be41a-eb1b-4452-c92b-fd8c54ee8f40"
      },
      "source": [
        ""
      ],
      "execution_count": null,
      "outputs": [
        {
          "output_type": "stream",
          "text": [
            "{'str': 3, 'int': 2, 'float': 1, 'complex': 0, 'list': 1, 'tuple': 0, 'range': 0, 'dict': 1, 'set': 0, 'frozenset': 0, 'bool': 0, 'bytes': 0, 'bytearray': 0, 'memoryview': 0}\n"
          ],
          "name": "stdout"
        }
      ]
    },
    {
      "cell_type": "code",
      "metadata": {
        "id": "87oDOVYM19Rw"
      },
      "source": [
        ""
      ],
      "execution_count": null,
      "outputs": []
    }
  ]
}
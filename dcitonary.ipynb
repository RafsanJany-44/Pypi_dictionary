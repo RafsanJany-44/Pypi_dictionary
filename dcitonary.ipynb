{
  "nbformat": 4,
  "nbformat_minor": 0,
  "metadata": {
    "colab": {
      "name": "dcitonary",
      "provenance": [],
      "collapsed_sections": [],
      "include_colab_link": true
    },
    "kernelspec": {
      "display_name": "Python 3",
      "name": "python3"
    }
  },
  "cells": [
    {
      "cell_type": "markdown",
      "metadata": {
        "id": "view-in-github",
        "colab_type": "text"
      },
      "source": [
        "<a href=\"https://colab.research.google.com/github/RafsanJany-44/Pypi_dictionary/blob/master/dcitonary.ipynb\" target=\"_parent\"><img src=\"https://colab.research.google.com/assets/colab-badge.svg\" alt=\"Open In Colab\"/></a>"
      ]
    },
    {
      "cell_type": "markdown",
      "metadata": {
        "id": "3TF28_Uc9oB-"
      },
      "source": [
        "<font color= \"red\" size=\"36\"><b>DONE</font>"
      ]
    },
    {
      "cell_type": "code",
      "metadata": {
        "colab": {
          "base_uri": "https://localhost:8080/"
        },
        "id": "KFn0eqaVyFKU",
        "outputId": "14f578bc-f4d7-46d3-cd82-99515a098d70"
      },
      "source": [
        "\n",
        "def key_search(dict,value):\n",
        "  list_of_keys = list(dict.keys())\n",
        "  list_of_value = list(dict.values())\n",
        "  position = list_of_value.index(value)\n",
        "  return list_of_keys[position]\n",
        "\n",
        "\n",
        "\n",
        "def value_sort(dict,type=False):\n",
        "  d={}\n",
        "  values=sorted(dict.values(),reverse=type)\n",
        "  for i in values:\n",
        "    d[key_search(dict,i)]=i\n",
        "  return d\n",
        "\n",
        "\n",
        "def key_sort(dict,type=False):\n",
        "  d={}\n",
        "  keys=sorted(dict.keys(),reverse=type)\n",
        "  for i in keys:\n",
        "    d[i]=dict[i]\n",
        "  return d\n",
        "\n",
        "\n",
        "\n",
        "def to_json(dict,file_name_or_path):\n",
        "  import json\n",
        "  with open(file_name_or_path, 'w') as outfile:\n",
        "    json.dump(dict, outfile)\n",
        "\n",
        "\n",
        "def from_json(file_name_or_path):\n",
        "  import json\n",
        "  with open(file_name_or_path) as infile:\n",
        "    return json.load(infile)\n",
        "\n",
        "\n",
        "\n",
        "\n",
        "\n",
        "\n",
        "def show_def():\n",
        "\n",
        "  d={\n",
        "      1:{\"FUNCTIONS\":\"key_search(dict,value)\",\"RETURN\":\"Key\"},\n",
        "      2:{\"FUNCTIONS\":\"value_sort(dict,type=False)\",\"RETURN\":\"Dictionary\"},\n",
        "      3:{\"FUNCTIONS\":\"key_sort(dict,type=False)\",\"RETURN\":\"Dictionary\"},\n",
        "      4:{\"FUNCTIONS\":\"to_json(dict,file_name_or_path)\",\"RETURN\":\"Null\"},\n",
        "      5:{\"FUNCTIONS\":\"from_json(file_name_or_path)\",\"RETURN\":None},\n",
        "      6:{\"FUNCTIONS\":\"show_def(None)\",\"RETURN\":None},\n",
        "      7:{\"FUNCTIONS\":\"show_type(any_data)\",\"RETURN\":\"String\"},\n",
        "     8:{\"FUNCTIONS\":\"values_type_count(dictionary))\",\"RETURN\":\"Dictionary\"}\n",
        "  }\n",
        "  for i in d:\n",
        "    print(i,\": \",d[i],end=\"\\n\")\n",
        "    print()\n",
        "show_def()\n",
        "\n",
        "\n",
        "\n",
        "\n",
        "def show_type(s):\n",
        "  return str(type(s))[8:-2]\n",
        "\n",
        "\n",
        "\n",
        "\n",
        "\n",
        "def values_type_count(d):\n",
        "  dict={\n",
        "      'str':0,\n",
        "      'int':0,\n",
        "      'float':0,\n",
        "      'complex':0,\n",
        "      'list':0,\n",
        "      'tuple':0,\n",
        "      'range':0,\n",
        "      'range':0,\n",
        "      'dict':0,\n",
        "      'set':0,\n",
        "      'frozenset':0,\n",
        "      'bool':0,\n",
        "      'bytes':0,\n",
        "      'bytearray':0,\n",
        "      'memoryview':0\n",
        "  }\n",
        "  for i in d:\n",
        "     dict[show_type(d[i])]=dict[show_type(d[i])]+1\n",
        "  return dict\n",
        "\n",
        "\n"
      ],
      "execution_count": 7,
      "outputs": [
        {
          "output_type": "stream",
          "text": [
            "1 :  {'FUNCTIONS': 'key_search(dict,value)', 'RETURN': 'Key'}\n",
            "\n",
            "2 :  {'FUNCTIONS': 'value_sort(dict,type=False)', 'RETURN': 'Dictionary'}\n",
            "\n",
            "3 :  {'FUNCTIONS': 'key_sort(dict,type=False)', 'RETURN': 'Dictionary'}\n",
            "\n",
            "4 :  {'FUNCTIONS': 'to_json(dict,file_name_or_path)', 'RETURN': 'Null'}\n",
            "\n",
            "5 :  {'FUNCTIONS': 'from_json(file_name_or_path)', 'RETURN': None}\n",
            "\n",
            "6 :  {'FUNCTIONS': 'show_def(None)', 'RETURN': None}\n",
            "\n",
            "7 :  {'FUNCTIONS': 'show_type(any_data)', 'RETURN': 'String'}\n",
            "\n",
            "8 :  {'FUNCTIONS': 'values_type_count(dictionary))', 'RETURN': 'Dictionary'}\n",
            "\n"
          ],
          "name": "stdout"
        }
      ]
    },
    {
      "cell_type": "markdown",
      "metadata": {
        "id": "CNyzyB83PNpU"
      },
      "source": [
        "<font color= \"red\" size=\"36\"><b>New code to Add</font>"
      ]
    },
    {
      "cell_type": "code",
      "metadata": {
        "id": "2juIWm65i8fC"
      },
      "source": [
        ""
      ],
      "execution_count": null,
      "outputs": []
    },
    {
      "cell_type": "markdown",
      "metadata": {
        "id": "Ud9G_NnCxLyO"
      },
      "source": [
        "<font color= \"red\" size=\"36\"><b>--------------------------------------------------------------------------------</font>"
      ]
    },
    {
      "cell_type": "code",
      "metadata": {
        "colab": {
          "base_uri": "https://localhost:8080/"
        },
        "id": "u0npGThVINtK",
        "outputId": "273e3c7b-8fd9-41c1-9060-7a14deb5accd"
      },
      "source": [
        "d={}\n",
        "for i in range(20):\n",
        "  d[i]=\"\"\n",
        "print(d)\n"
      ],
      "execution_count": 2,
      "outputs": [
        {
          "output_type": "stream",
          "text": [
            "{0: '', 1: '', 2: '', 3: '', 4: '', 5: '', 6: '', 7: '', 8: '', 9: '', 10: '', 11: '', 12: '', 13: '', 14: '', 15: '', 16: '', 17: '', 18: '', 19: ''}\n"
          ],
          "name": "stdout"
        }
      ]
    },
    {
      "cell_type": "code",
      "metadata": {
        "id": "A6B2P6Ge1ou1"
      },
      "source": [
        "d={0: \"Hello World\", \n",
        "   1: 20,\n",
        "   2: 20.5, \n",
        "   3: 1j, \n",
        "   4: [\"rafsan\", \"tainaki\", \"achha thik achhe\"], \n",
        "   5: (\"thik nai\", \"kemne ki\", \"koi ki\"), \n",
        "   6: range(6), \n",
        "   7:  {\"name\" : \"John\", \"age\" : 36}, \n",
        "   8: {\"apple\", \"banana\", \"cherry\"}, \n",
        "   9: frozenset({\"apple\", \"banana\", \"cherry\"}), \n",
        "   10: True, \n",
        "   11: b\"Hello\", \n",
        "   12: bytearray(5), \n",
        "   13: memoryview(bytes(5)),\n",
        "   81: \"Hello World\", \n",
        "   11: 20,\n",
        "   21: 20.5, \n",
        "   31: 1j, \n",
        "   41: [\"apple\", \"banana\", \"cherry\"], \n",
        "   51: (\"apple\", \"banana\", \"cherry\"), \n",
        "   61: range(6), \n",
        "   71:  {\"name\" : \"John\", \"age\" : 36}, \n",
        "   81: {\"apple\", \"banana\", \"cherry\"}, \n",
        "   91: frozenset({\"apple\", \"banana\", \"cherry\"}), \n",
        "   101: True, \n",
        "   111: b\"Hello\", \n",
        "   121: bytearray(5), \n",
        "   131: memoryview(bytes(5)),\n",
        "   82: \"Hello World\", \n",
        "   12: 20,\n",
        "   22: 20.5, \n",
        "   32: 1j, \n",
        "   42: [\"apple\", \"banana\", \"cherry\"], \n",
        "   52: (\"apple\", \"banana\", \"cherry\"), \n",
        "   62: range(6), \n",
        "   72:  {\"name\" : \"John\", \"age\" : 36}, \n",
        "   82: {\"apple\", \"banana\", \"cherry\"}, \n",
        "   92: frozenset({\"apple\", \"banana\", \"cherry\"}), \n",
        "   102: True, \n",
        "   112: b\"Hello\", \n",
        "   122: bytearray(5), \n",
        "   132: memoryview(bytes(5)),\n",
        "   83: \"Hello World\", \n",
        "   13: 20,\n",
        "   23: 20.5, \n",
        "   33: 1j, \n",
        "   43: [\"apple\", \"banana\", \"cherry\"], \n",
        "   53: (\"apple\", \"banana\", \"cherry\"), \n",
        "   63: range(6), \n",
        "   73:  {\"name\" : \"John\", \"age\" : 36}, \n",
        "   83: {\"apple\", \"banana\", \"cherry\"}, \n",
        "   93: frozenset({\"apple\", \"banana\", \"cherry\"}), \n",
        "   103: True, \n",
        "   113: b\"Hello\", \n",
        "   123: bytearray(5), \n",
        "   133: memoryview(bytes(5))\n",
        "   \n",
        "   \n",
        "   \n",
        "   }"
      ],
      "execution_count": 15,
      "outputs": []
    },
    {
      "cell_type": "code",
      "metadata": {
        "id": "87oDOVYM19Rw",
        "outputId": "ac73f450-f907-4b8f-ae1b-133fbe73c4ef",
        "colab": {
          "base_uri": "https://localhost:8080/"
        }
      },
      "source": [
        "print(d)"
      ],
      "execution_count": 16,
      "outputs": [
        {
          "output_type": "stream",
          "text": [
            "{0: 'Hello World', 1: 20, 2: 20.5, 3: 1j, 4: ['rafsan', 'tainaki', 'achha thik achhe'], 5: ('thik nai', 'kemne ki', 'koi ki'), 6: range(0, 6), 7: {'name': 'John', 'age': 36}, 8: {'cherry', 'banana', 'apple'}, 9: frozenset({'cherry', 'banana', 'apple'}), 10: True, 11: 20, 12: 20, 13: 20, 81: {'cherry', 'banana', 'apple'}, 21: 20.5, 31: 1j, 41: ['apple', 'banana', 'cherry'], 51: ('apple', 'banana', 'cherry'), 61: range(0, 6), 71: {'name': 'John', 'age': 36}, 91: frozenset({'cherry', 'banana', 'apple'}), 101: True, 111: b'Hello', 121: bytearray(b'\\x00\\x00\\x00\\x00\\x00'), 131: <memory at 0x7f3db5a271c8>, 82: {'cherry', 'banana', 'apple'}, 22: 20.5, 32: 1j, 42: ['apple', 'banana', 'cherry'], 52: ('apple', 'banana', 'cherry'), 62: range(0, 6), 72: {'name': 'John', 'age': 36}, 92: frozenset({'cherry', 'banana', 'apple'}), 102: True, 112: b'Hello', 122: bytearray(b'\\x00\\x00\\x00\\x00\\x00'), 132: <memory at 0x7f3db5a27288>, 83: {'cherry', 'banana', 'apple'}, 23: 20.5, 33: 1j, 43: ['apple', 'banana', 'cherry'], 53: ('apple', 'banana', 'cherry'), 63: range(0, 6), 73: {'name': 'John', 'age': 36}, 93: frozenset({'cherry', 'banana', 'apple'}), 103: True, 113: b'Hello', 123: bytearray(b'\\x00\\x00\\x00\\x00\\x00'), 133: <memory at 0x7f3db5a27348>}\n"
          ],
          "name": "stdout"
        }
      ]
    },
    {
      "cell_type": "code",
      "metadata": {
        "id": "94vGdwc4BYw-",
        "outputId": "2c969529-807f-440c-b72a-622c77d63699",
        "colab": {
          "base_uri": "https://localhost:8080/"
        }
      },
      "source": [
        "print(values_type_count(d))"
      ],
      "execution_count": 17,
      "outputs": [
        {
          "output_type": "stream",
          "text": [
            "{'str': 1, 'int': 4, 'float': 4, 'complex': 4, 'list': 4, 'tuple': 4, 'range': 4, 'dict': 4, 'set': 4, 'frozenset': 4, 'bool': 4, 'bytes': 3, 'bytearray': 3, 'memoryview': 3}\n"
          ],
          "name": "stdout"
        }
      ]
    },
    {
      "cell_type": "code",
      "metadata": {
        "id": "GFAVJdR5BqL8"
      },
      "source": [
        ""
      ],
      "execution_count": null,
      "outputs": []
    }
  ]
}
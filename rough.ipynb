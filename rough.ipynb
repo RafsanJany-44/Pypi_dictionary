{
  "nbformat": 4,
  "nbformat_minor": 0,
  "metadata": {
    "colab": {
      "name": "Welcome To Colaboratory",
      "provenance": [],
      "collapsed_sections": [],
      "include_colab_link": true
    },
    "kernelspec": {
      "display_name": "Python 3",
      "name": "python3"
    }
  },
  "cells": [
    {
      "cell_type": "markdown",
      "metadata": {
        "id": "view-in-github",
        "colab_type": "text"
      },
      "source": [
        "<a href=\"https://colab.research.google.com/github/RafsanJany-44/Pypi_dictionary/blob/master/rough.ipynb\" target=\"_parent\"><img src=\"https://colab.research.google.com/assets/colab-badge.svg\" alt=\"Open In Colab\"/></a>"
      ]
    },
    {
      "cell_type": "code",
      "metadata": {
        "id": "7xhS6qoMFilV"
      },
      "source": [
        "d={1:\"rafsan jany\",\n",
        "2:True,\n",
        "3:4.55,\n",
        "4:44,"
      ],
      "execution_count": 7,
      "outputs": []
    }
  ]
}